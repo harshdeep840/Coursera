{
  "nbformat": 4,
  "nbformat_minor": 0,
  "metadata": {
    "colab": {
      "provenance": []
    },
    "kernelspec": {
      "name": "python3",
      "display_name": "Python 3"
    },
    "language_info": {
      "name": "python"
    }
  },
  "cells": [
    {
      "cell_type": "code",
      "execution_count": null,
      "metadata": {
        "id": "embt9Kxsum0y"
      },
      "outputs": [],
      "source": [
        "# Data Science Tools and Ecosystem\n"
      ]
    },
    {
      "cell_type": "code",
      "source": [
        "# Data Science Tools and Ecosystem\n",
        "\n",
        "In this notebook, we will explore various tools, libraries, and ecosystems that are widely used in Data Science.\n"
      ],
      "metadata": {
        "id": "g7pZAogbxj0y"
      },
      "execution_count": null,
      "outputs": []
    },
    {
      "cell_type": "code",
      "source": [
        "# Data Science Tools and Ecosystem\n",
        "\n",
        "In this notebook, we will explore various tools, libraries, and ecosystems that are widely used in Data Science.\n",
        "\n",
        "## Data Science Languages\n",
        "Some of the popular languages that Data Scientists use are:\n",
        "1. Python\n",
        "2. R\n",
        "3. SQL\n",
        "4. Julia\n"
      ],
      "metadata": {
        "id": "9fh3F6OByXsu"
      },
      "execution_count": null,
      "outputs": []
    },
    {
      "cell_type": "code",
      "source": [
        "# Data Science Tools and Ecosystem\n",
        "\n",
        "In this notebook, we will explore various tools, libraries, and ecosystems that are widely used in Data Science.\n",
        "\n",
        "## Data Science Libraries\n",
        "Some of the commonly used libraries by Data Scientists include:\n",
        "1. NumPy\n",
        "2. Pandas\n",
        "3. Matplotlib\n",
        "4. Scikit-learn\n",
        "5. TensorFlow\n"
      ],
      "metadata": {
        "id": "RNprdB4_12vg"
      },
      "execution_count": null,
      "outputs": []
    },
    {
      "cell_type": "code",
      "source": [
        "# Data Science Tools\n",
        "\n",
        "Below is a simple table of some popular Data Science tools:\n",
        "\n",
        "| Data Science Tools |\n",
        "|---------------------|\n",
        "| Jupyter Notebook    |\n",
        "| RStudio             |\n",
        "| Apache Spark        |\n"
      ],
      "metadata": {
        "id": "Jwo5VY_I2pX7"
      },
      "execution_count": null,
      "outputs": []
    },
    {
      "cell_type": "code",
      "source": [
        "# Arithmetic Expression Examples\n",
        "\n",
        "In this section, we will explore examples of simple arithmetic expressions that can be evaluated in Python.\n"
      ],
      "metadata": {
        "id": "JRQd4LF93Xv2"
      },
      "execution_count": null,
      "outputs": []
    },
    {
      "cell_type": "code",
      "source": [
        "# Multiply and add integers\n",
        "(3 * 4) + 5\n"
      ],
      "metadata": {
        "colab": {
          "base_uri": "https://localhost:8080/"
        },
        "id": "zO8oCEkG3sGf",
        "outputId": "f89df9dc-cbde-4c1f-f922-c2327698df5b"
      },
      "execution_count": 1,
      "outputs": [
        {
          "output_type": "execute_result",
          "data": {
            "text/plain": [
              "17"
            ]
          },
          "metadata": {},
          "execution_count": 1
        }
      ]
    },
    {
      "cell_type": "code",
      "source": [
        "# Convert minutes to hours\n",
        "minutes = 200\n",
        "hours = minutes / 60\n",
        "hours\n"
      ],
      "metadata": {
        "colab": {
          "base_uri": "https://localhost:8080/"
        },
        "id": "WJoydiAS4FPD",
        "outputId": "bbb86ec1-de2b-4623-832b-0d3d1250a611"
      },
      "execution_count": 2,
      "outputs": [
        {
          "output_type": "execute_result",
          "data": {
            "text/plain": [
              "3.3333333333333335"
            ]
          },
          "metadata": {},
          "execution_count": 2
        }
      ]
    },
    {
      "cell_type": "code",
      "source": [],
      "metadata": {
        "id": "hdZu4u5D4jUT"
      },
      "execution_count": null,
      "outputs": []
    },
    {
      "cell_type": "code",
      "source": [
        "# Objectives\n",
        "\n",
        "In this lesson, you will learn the following objectives:\n",
        "\n",
        "- Understand key concepts of Data Science\n",
        "- Explore popular libraries and tools\n",
        "- Work with datasets\n",
        "- Perform simple data analysis\n",
        "- Visualize data using Python libraries\n"
      ],
      "metadata": {
        "id": "OfpOMv5q4hNK"
      },
      "execution_count": null,
      "outputs": []
    },
    {
      "cell_type": "code",
      "source": [
        "## Author\n",
        "\n",
        "Harsh Deep\n"
      ],
      "metadata": {
        "colab": {
          "base_uri": "https://localhost:8080/",
          "height": 110
        },
        "id": "JIYhP8rN5ErS",
        "outputId": "5e7d08c3-05ab-4bf3-d677-f4cd2f67a398"
      },
      "execution_count": 4,
      "outputs": [
        {
          "output_type": "error",
          "ename": "SyntaxError",
          "evalue": "invalid syntax (ipython-input-1324551574.py, line 3)",
          "traceback": [
            "\u001b[0;36m  File \u001b[0;32m\"/tmp/ipython-input-1324551574.py\"\u001b[0;36m, line \u001b[0;32m3\u001b[0m\n\u001b[0;31m    Harsh Deeo\u001b[0m\n\u001b[0m          ^\u001b[0m\n\u001b[0;31mSyntaxError\u001b[0m\u001b[0;31m:\u001b[0m invalid syntax\n"
          ]
        }
      ]
    }
  ]
}